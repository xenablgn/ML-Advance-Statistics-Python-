{
 "cells": [
  {
   "cell_type": "markdown",
   "metadata": {},
   "source": [
    "# ML courses 5 & 6 - Practice on logistic regression and classification assessment"
   ]
  },
  {
   "cell_type": "markdown",
   "metadata": {},
   "source": [
    "### <span style=\"color:red\"> WRITE YOUR NAME HERE: </span>  SENA NUR BILGIN"
   ]
  },
  {
   "cell_type": "markdown",
   "metadata": {},
   "source": [
    "We will work here on a data set taken from Scikit-Learn about the characteristics of malignant and benign breast tumors to prevent the risk of cancer."
   ]
  },
  {
   "cell_type": "markdown",
   "metadata": {},
   "source": [
    "## Data preparation"
   ]
  },
  {
   "cell_type": "code",
   "execution_count": 2,
   "metadata": {
    "ExecuteTime": {
     "end_time": "2022-04-10T16:24:28.417790Z",
     "start_time": "2022-04-10T16:24:26.342232Z"
    }
   },
   "outputs": [],
   "source": [
    "import numpy as np\n",
    "import matplotlib.pyplot as plt\n",
    "import pandas as pd\n",
    "import sklearn\n",
    "import seaborn as sns\n",
    "import warnings\n",
    "from sklearn.metrics import confusion_matrix, ConfusionMatrixDisplay, f1_score, roc_curve, roc_auc_score, log_loss\n",
    "from sklearn.linear_model import LogisticRegression\n",
    "from sklearn.metrics import accuracy_score\n",
    "from sklearn.preprocessing import LabelEncoder\n",
    "from sklearn.model_selection import train_test_split\n",
    "\n",
    "# Suppress warnings\n",
    "warnings.filterwarnings(\"ignore\", category=UserWarning)\n",
    "warnings.simplefilter(action='ignore', category=FutureWarning)\n"
   ]
  },
  {
   "cell_type": "markdown",
   "metadata": {},
   "source": []
  },
  {
   "cell_type": "markdown",
   "metadata": {},
   "source": [
    "**Loading the data set from Scikit-Learn**"
   ]
  },
  {
   "cell_type": "code",
   "execution_count": 3,
   "metadata": {
    "ExecuteTime": {
     "end_time": "2022-04-10T16:24:28.490335Z",
     "start_time": "2022-04-10T16:24:28.419700Z"
    }
   },
   "outputs": [],
   "source": [
    "from sklearn.datasets import load_breast_cancer\n",
    "data_all = load_breast_cancer()"
   ]
  },
  {
   "cell_type": "markdown",
   "metadata": {},
   "source": [
    "**Checking the keys of the dictionary loaded**   \n",
    "Sklearn returns the dataset in the form of a dictionary. The actual dataset is stored under 'data', but there are other keys that give access to more information."
   ]
  },
  {
   "cell_type": "code",
   "execution_count": 3,
   "metadata": {
    "ExecuteTime": {
     "end_time": "2022-04-10T16:24:28.496532Z",
     "start_time": "2022-04-10T16:24:28.492451Z"
    }
   },
   "outputs": [
    {
     "name": "stdout",
     "output_type": "stream",
     "text": [
      "dict_keys(['data', 'target', 'frame', 'target_names', 'DESCR', 'feature_names', 'filename', 'data_module'])\n"
     ]
    }
   ],
   "source": [
    "print(data_all.keys())\n",
    "#Lets see the all the modules: \n"
   ]
  },
  {
   "cell_type": "markdown",
   "metadata": {},
   "source": [
    "**Getting a description of the data set**"
   ]
  },
  {
   "cell_type": "code",
   "execution_count": 4,
   "metadata": {
    "ExecuteTime": {
     "end_time": "2022-04-10T16:24:28.500647Z",
     "start_time": "2022-04-10T16:24:28.497996Z"
    },
    "scrolled": false
   },
   "outputs": [
    {
     "name": "stdout",
     "output_type": "stream",
     "text": [
      ".. _breast_cancer_dataset:\n",
      "\n",
      "Breast cancer wisconsin (diagnostic) dataset\n",
      "--------------------------------------------\n",
      "\n",
      "**Data Set Characteristics:**\n",
      "\n",
      "    :Number of Instances: 569\n",
      "\n",
      "    :Number of Attributes: 30 numeric, predictive attributes and the class\n",
      "\n",
      "    :Attribute Information:\n",
      "        - radius (mean of distances from center to points on the perimeter)\n",
      "        - texture (standard deviation of gray-scale values)\n",
      "        - perimeter\n",
      "        - area\n",
      "        - smoothness (local variation in radius lengths)\n",
      "        - compactness (perimeter^2 / area - 1.0)\n",
      "        - concavity (severity of concave portions of the contour)\n",
      "        - concave points (number of concave portions of the contour)\n",
      "        - symmetry\n",
      "        - fractal dimension (\"coastline approximation\" - 1)\n",
      "\n",
      "        The mean, standard error, and \"worst\" or largest (mean of the three\n",
      "        worst/largest values) of these features were computed for each image,\n",
      "        resulting in 30 features.  For instance, field 0 is Mean Radius, field\n",
      "        10 is Radius SE, field 20 is Worst Radius.\n",
      "\n",
      "        - class:\n",
      "                - WDBC-Malignant\n",
      "                - WDBC-Benign\n",
      "\n",
      "    :Summary Statistics:\n",
      "\n",
      "    ===================================== ====== ======\n",
      "                                           Min    Max\n",
      "    ===================================== ====== ======\n",
      "    radius (mean):                        6.981  28.11\n",
      "    texture (mean):                       9.71   39.28\n",
      "    perimeter (mean):                     43.79  188.5\n",
      "    area (mean):                          143.5  2501.0\n",
      "    smoothness (mean):                    0.053  0.163\n",
      "    compactness (mean):                   0.019  0.345\n",
      "    concavity (mean):                     0.0    0.427\n",
      "    concave points (mean):                0.0    0.201\n",
      "    symmetry (mean):                      0.106  0.304\n",
      "    fractal dimension (mean):             0.05   0.097\n",
      "    radius (standard error):              0.112  2.873\n",
      "    texture (standard error):             0.36   4.885\n",
      "    perimeter (standard error):           0.757  21.98\n",
      "    area (standard error):                6.802  542.2\n",
      "    smoothness (standard error):          0.002  0.031\n",
      "    compactness (standard error):         0.002  0.135\n",
      "    concavity (standard error):           0.0    0.396\n",
      "    concave points (standard error):      0.0    0.053\n",
      "    symmetry (standard error):            0.008  0.079\n",
      "    fractal dimension (standard error):   0.001  0.03\n",
      "    radius (worst):                       7.93   36.04\n",
      "    texture (worst):                      12.02  49.54\n",
      "    perimeter (worst):                    50.41  251.2\n",
      "    area (worst):                         185.2  4254.0\n",
      "    smoothness (worst):                   0.071  0.223\n",
      "    compactness (worst):                  0.027  1.058\n",
      "    concavity (worst):                    0.0    1.252\n",
      "    concave points (worst):               0.0    0.291\n",
      "    symmetry (worst):                     0.156  0.664\n",
      "    fractal dimension (worst):            0.055  0.208\n",
      "    ===================================== ====== ======\n",
      "\n",
      "    :Missing Attribute Values: None\n",
      "\n",
      "    :Class Distribution: 212 - Malignant, 357 - Benign\n",
      "\n",
      "    :Creator:  Dr. William H. Wolberg, W. Nick Street, Olvi L. Mangasarian\n",
      "\n",
      "    :Donor: Nick Street\n",
      "\n",
      "    :Date: November, 1995\n",
      "\n",
      "This is a copy of UCI ML Breast Cancer Wisconsin (Diagnostic) datasets.\n",
      "https://goo.gl/U2Uwz2\n",
      "\n",
      "Features are computed from a digitized image of a fine needle\n",
      "aspirate (FNA) of a breast mass.  They describe\n",
      "characteristics of the cell nuclei present in the image.\n",
      "\n",
      "Separating plane described above was obtained using\n",
      "Multisurface Method-Tree (MSM-T) [K. P. Bennett, \"Decision Tree\n",
      "Construction Via Linear Programming.\" Proceedings of the 4th\n",
      "Midwest Artificial Intelligence and Cognitive Science Society,\n",
      "pp. 97-101, 1992], a classification method which uses linear\n",
      "programming to construct a decision tree.  Relevant features\n",
      "were selected using an exhaustive search in the space of 1-4\n",
      "features and 1-3 separating planes.\n",
      "\n",
      "The actual linear program used to obtain the separating plane\n",
      "in the 3-dimensional space is that described in:\n",
      "[K. P. Bennett and O. L. Mangasarian: \"Robust Linear\n",
      "Programming Discrimination of Two Linearly Inseparable Sets\",\n",
      "Optimization Methods and Software 1, 1992, 23-34].\n",
      "\n",
      "This database is also available through the UW CS ftp server:\n",
      "\n",
      "ftp ftp.cs.wisc.edu\n",
      "cd math-prog/cpo-dataset/machine-learn/WDBC/\n",
      "\n",
      ".. topic:: References\n",
      "\n",
      "   - W.N. Street, W.H. Wolberg and O.L. Mangasarian. Nuclear feature extraction \n",
      "     for breast tumor diagnosis. IS&T/SPIE 1993 International Symposium on \n",
      "     Electronic Imaging: Science and Technology, volume 1905, pages 861-870,\n",
      "     San Jose, CA, 1993.\n",
      "   - O.L. Mangasarian, W.N. Street and W.H. Wolberg. Breast cancer diagnosis and \n",
      "     prognosis via linear programming. Operations Research, 43(4), pages 570-577, \n",
      "     July-August 1995.\n",
      "   - W.H. Wolberg, W.N. Street, and O.L. Mangasarian. Machine learning techniques\n",
      "     to diagnose breast cancer from fine-needle aspirates. Cancer Letters 77 (1994) \n",
      "     163-171.\n"
     ]
    }
   ],
   "source": [
    "print(data_all.DESCR)"
   ]
  },
  {
   "cell_type": "markdown",
   "metadata": {},
   "source": [
    "**Preparing the data frame of all features**"
   ]
  },
  {
   "cell_type": "code",
   "execution_count": 5,
   "metadata": {
    "ExecuteTime": {
     "end_time": "2022-04-10T16:24:28.505545Z",
     "start_time": "2022-04-10T16:24:28.502274Z"
    }
   },
   "outputs": [
    {
     "data": {
      "text/plain": [
       "array(['mean radius', 'mean texture', 'mean perimeter', 'mean area',\n",
       "       'mean smoothness', 'mean compactness', 'mean concavity',\n",
       "       'mean concave points', 'mean symmetry', 'mean fractal dimension',\n",
       "       'radius error', 'texture error', 'perimeter error', 'area error',\n",
       "       'smoothness error', 'compactness error', 'concavity error',\n",
       "       'concave points error', 'symmetry error',\n",
       "       'fractal dimension error', 'worst radius', 'worst texture',\n",
       "       'worst perimeter', 'worst area', 'worst smoothness',\n",
       "       'worst compactness', 'worst concavity', 'worst concave points',\n",
       "       'worst symmetry', 'worst fractal dimension'], dtype='<U23')"
      ]
     },
     "execution_count": 5,
     "metadata": {},
     "output_type": "execute_result"
    }
   ],
   "source": [
    "data_all.feature_names"
   ]
  },
  {
   "cell_type": "code",
   "execution_count": 6,
   "metadata": {
    "ExecuteTime": {
     "end_time": "2022-04-10T16:24:28.534631Z",
     "start_time": "2022-04-10T16:24:28.507175Z"
    }
   },
   "outputs": [
    {
     "data": {
      "text/html": [
       "<div>\n",
       "<style scoped>\n",
       "    .dataframe tbody tr th:only-of-type {\n",
       "        vertical-align: middle;\n",
       "    }\n",
       "\n",
       "    .dataframe tbody tr th {\n",
       "        vertical-align: top;\n",
       "    }\n",
       "\n",
       "    .dataframe thead th {\n",
       "        text-align: right;\n",
       "    }\n",
       "</style>\n",
       "<table border=\"1\" class=\"dataframe\">\n",
       "  <thead>\n",
       "    <tr style=\"text-align: right;\">\n",
       "      <th></th>\n",
       "      <th>mean radius</th>\n",
       "      <th>mean texture</th>\n",
       "      <th>mean perimeter</th>\n",
       "      <th>mean area</th>\n",
       "      <th>mean smoothness</th>\n",
       "      <th>mean compactness</th>\n",
       "      <th>mean concavity</th>\n",
       "      <th>mean concave points</th>\n",
       "      <th>mean symmetry</th>\n",
       "      <th>mean fractal dimension</th>\n",
       "      <th>...</th>\n",
       "      <th>worst radius</th>\n",
       "      <th>worst texture</th>\n",
       "      <th>worst perimeter</th>\n",
       "      <th>worst area</th>\n",
       "      <th>worst smoothness</th>\n",
       "      <th>worst compactness</th>\n",
       "      <th>worst concavity</th>\n",
       "      <th>worst concave points</th>\n",
       "      <th>worst symmetry</th>\n",
       "      <th>worst fractal dimension</th>\n",
       "    </tr>\n",
       "  </thead>\n",
       "  <tbody>\n",
       "    <tr>\n",
       "      <th>421</th>\n",
       "      <td>14.69</td>\n",
       "      <td>13.98</td>\n",
       "      <td>98.22</td>\n",
       "      <td>656.1</td>\n",
       "      <td>0.10310</td>\n",
       "      <td>0.18360</td>\n",
       "      <td>0.14500</td>\n",
       "      <td>0.06300</td>\n",
       "      <td>0.2086</td>\n",
       "      <td>0.07406</td>\n",
       "      <td>...</td>\n",
       "      <td>16.46</td>\n",
       "      <td>18.34</td>\n",
       "      <td>114.10</td>\n",
       "      <td>809.2</td>\n",
       "      <td>0.13120</td>\n",
       "      <td>0.36350</td>\n",
       "      <td>0.3219</td>\n",
       "      <td>0.11080</td>\n",
       "      <td>0.2827</td>\n",
       "      <td>0.09208</td>\n",
       "    </tr>\n",
       "    <tr>\n",
       "      <th>47</th>\n",
       "      <td>13.17</td>\n",
       "      <td>18.66</td>\n",
       "      <td>85.98</td>\n",
       "      <td>534.6</td>\n",
       "      <td>0.11580</td>\n",
       "      <td>0.12310</td>\n",
       "      <td>0.12260</td>\n",
       "      <td>0.07340</td>\n",
       "      <td>0.2128</td>\n",
       "      <td>0.06777</td>\n",
       "      <td>...</td>\n",
       "      <td>15.67</td>\n",
       "      <td>27.95</td>\n",
       "      <td>102.80</td>\n",
       "      <td>759.4</td>\n",
       "      <td>0.17860</td>\n",
       "      <td>0.41660</td>\n",
       "      <td>0.5006</td>\n",
       "      <td>0.20880</td>\n",
       "      <td>0.3900</td>\n",
       "      <td>0.11790</td>\n",
       "    </tr>\n",
       "    <tr>\n",
       "      <th>292</th>\n",
       "      <td>12.95</td>\n",
       "      <td>16.02</td>\n",
       "      <td>83.14</td>\n",
       "      <td>513.7</td>\n",
       "      <td>0.10050</td>\n",
       "      <td>0.07943</td>\n",
       "      <td>0.06155</td>\n",
       "      <td>0.03370</td>\n",
       "      <td>0.1730</td>\n",
       "      <td>0.06470</td>\n",
       "      <td>...</td>\n",
       "      <td>13.74</td>\n",
       "      <td>19.93</td>\n",
       "      <td>88.81</td>\n",
       "      <td>585.4</td>\n",
       "      <td>0.14830</td>\n",
       "      <td>0.20680</td>\n",
       "      <td>0.2241</td>\n",
       "      <td>0.10560</td>\n",
       "      <td>0.3380</td>\n",
       "      <td>0.09584</td>\n",
       "    </tr>\n",
       "    <tr>\n",
       "      <th>186</th>\n",
       "      <td>18.31</td>\n",
       "      <td>18.58</td>\n",
       "      <td>118.60</td>\n",
       "      <td>1041.0</td>\n",
       "      <td>0.08588</td>\n",
       "      <td>0.08468</td>\n",
       "      <td>0.08169</td>\n",
       "      <td>0.05814</td>\n",
       "      <td>0.1621</td>\n",
       "      <td>0.05425</td>\n",
       "      <td>...</td>\n",
       "      <td>21.31</td>\n",
       "      <td>26.36</td>\n",
       "      <td>139.20</td>\n",
       "      <td>1410.0</td>\n",
       "      <td>0.12340</td>\n",
       "      <td>0.24450</td>\n",
       "      <td>0.3538</td>\n",
       "      <td>0.15710</td>\n",
       "      <td>0.3206</td>\n",
       "      <td>0.06938</td>\n",
       "    </tr>\n",
       "    <tr>\n",
       "      <th>414</th>\n",
       "      <td>15.13</td>\n",
       "      <td>29.81</td>\n",
       "      <td>96.71</td>\n",
       "      <td>719.5</td>\n",
       "      <td>0.08320</td>\n",
       "      <td>0.04605</td>\n",
       "      <td>0.04686</td>\n",
       "      <td>0.02739</td>\n",
       "      <td>0.1852</td>\n",
       "      <td>0.05294</td>\n",
       "      <td>...</td>\n",
       "      <td>17.26</td>\n",
       "      <td>36.91</td>\n",
       "      <td>110.10</td>\n",
       "      <td>931.4</td>\n",
       "      <td>0.11480</td>\n",
       "      <td>0.09866</td>\n",
       "      <td>0.1547</td>\n",
       "      <td>0.06575</td>\n",
       "      <td>0.3233</td>\n",
       "      <td>0.06165</td>\n",
       "    </tr>\n",
       "    <tr>\n",
       "      <th>132</th>\n",
       "      <td>16.16</td>\n",
       "      <td>21.54</td>\n",
       "      <td>106.20</td>\n",
       "      <td>809.8</td>\n",
       "      <td>0.10080</td>\n",
       "      <td>0.12840</td>\n",
       "      <td>0.10430</td>\n",
       "      <td>0.05613</td>\n",
       "      <td>0.2160</td>\n",
       "      <td>0.05891</td>\n",
       "      <td>...</td>\n",
       "      <td>19.47</td>\n",
       "      <td>31.68</td>\n",
       "      <td>129.70</td>\n",
       "      <td>1175.0</td>\n",
       "      <td>0.13950</td>\n",
       "      <td>0.30550</td>\n",
       "      <td>0.2992</td>\n",
       "      <td>0.13120</td>\n",
       "      <td>0.3480</td>\n",
       "      <td>0.07619</td>\n",
       "    </tr>\n",
       "    <tr>\n",
       "      <th>161</th>\n",
       "      <td>19.19</td>\n",
       "      <td>15.94</td>\n",
       "      <td>126.30</td>\n",
       "      <td>1157.0</td>\n",
       "      <td>0.08694</td>\n",
       "      <td>0.11850</td>\n",
       "      <td>0.11930</td>\n",
       "      <td>0.09667</td>\n",
       "      <td>0.1741</td>\n",
       "      <td>0.05176</td>\n",
       "      <td>...</td>\n",
       "      <td>22.03</td>\n",
       "      <td>17.81</td>\n",
       "      <td>146.60</td>\n",
       "      <td>1495.0</td>\n",
       "      <td>0.11240</td>\n",
       "      <td>0.20160</td>\n",
       "      <td>0.2264</td>\n",
       "      <td>0.17770</td>\n",
       "      <td>0.2443</td>\n",
       "      <td>0.06251</td>\n",
       "    </tr>\n",
       "    <tr>\n",
       "      <th>197</th>\n",
       "      <td>18.08</td>\n",
       "      <td>21.84</td>\n",
       "      <td>117.40</td>\n",
       "      <td>1024.0</td>\n",
       "      <td>0.07371</td>\n",
       "      <td>0.08642</td>\n",
       "      <td>0.11030</td>\n",
       "      <td>0.05778</td>\n",
       "      <td>0.1770</td>\n",
       "      <td>0.05340</td>\n",
       "      <td>...</td>\n",
       "      <td>19.76</td>\n",
       "      <td>24.70</td>\n",
       "      <td>129.10</td>\n",
       "      <td>1228.0</td>\n",
       "      <td>0.08822</td>\n",
       "      <td>0.19630</td>\n",
       "      <td>0.2535</td>\n",
       "      <td>0.09181</td>\n",
       "      <td>0.2369</td>\n",
       "      <td>0.06558</td>\n",
       "    </tr>\n",
       "  </tbody>\n",
       "</table>\n",
       "<p>8 rows × 30 columns</p>\n",
       "</div>"
      ],
      "text/plain": [
       "     mean radius  mean texture  mean perimeter  mean area  mean smoothness  \\\n",
       "421        14.69         13.98           98.22      656.1          0.10310   \n",
       "47         13.17         18.66           85.98      534.6          0.11580   \n",
       "292        12.95         16.02           83.14      513.7          0.10050   \n",
       "186        18.31         18.58          118.60     1041.0          0.08588   \n",
       "414        15.13         29.81           96.71      719.5          0.08320   \n",
       "132        16.16         21.54          106.20      809.8          0.10080   \n",
       "161        19.19         15.94          126.30     1157.0          0.08694   \n",
       "197        18.08         21.84          117.40     1024.0          0.07371   \n",
       "\n",
       "     mean compactness  mean concavity  mean concave points  mean symmetry  \\\n",
       "421           0.18360         0.14500              0.06300         0.2086   \n",
       "47            0.12310         0.12260              0.07340         0.2128   \n",
       "292           0.07943         0.06155              0.03370         0.1730   \n",
       "186           0.08468         0.08169              0.05814         0.1621   \n",
       "414           0.04605         0.04686              0.02739         0.1852   \n",
       "132           0.12840         0.10430              0.05613         0.2160   \n",
       "161           0.11850         0.11930              0.09667         0.1741   \n",
       "197           0.08642         0.11030              0.05778         0.1770   \n",
       "\n",
       "     mean fractal dimension  ...  worst radius  worst texture  \\\n",
       "421                 0.07406  ...         16.46          18.34   \n",
       "47                  0.06777  ...         15.67          27.95   \n",
       "292                 0.06470  ...         13.74          19.93   \n",
       "186                 0.05425  ...         21.31          26.36   \n",
       "414                 0.05294  ...         17.26          36.91   \n",
       "132                 0.05891  ...         19.47          31.68   \n",
       "161                 0.05176  ...         22.03          17.81   \n",
       "197                 0.05340  ...         19.76          24.70   \n",
       "\n",
       "     worst perimeter  worst area  worst smoothness  worst compactness  \\\n",
       "421           114.10       809.2           0.13120            0.36350   \n",
       "47            102.80       759.4           0.17860            0.41660   \n",
       "292            88.81       585.4           0.14830            0.20680   \n",
       "186           139.20      1410.0           0.12340            0.24450   \n",
       "414           110.10       931.4           0.11480            0.09866   \n",
       "132           129.70      1175.0           0.13950            0.30550   \n",
       "161           146.60      1495.0           0.11240            0.20160   \n",
       "197           129.10      1228.0           0.08822            0.19630   \n",
       "\n",
       "     worst concavity  worst concave points  worst symmetry  \\\n",
       "421           0.3219               0.11080          0.2827   \n",
       "47            0.5006               0.20880          0.3900   \n",
       "292           0.2241               0.10560          0.3380   \n",
       "186           0.3538               0.15710          0.3206   \n",
       "414           0.1547               0.06575          0.3233   \n",
       "132           0.2992               0.13120          0.3480   \n",
       "161           0.2264               0.17770          0.2443   \n",
       "197           0.2535               0.09181          0.2369   \n",
       "\n",
       "     worst fractal dimension  \n",
       "421                  0.09208  \n",
       "47                   0.11790  \n",
       "292                  0.09584  \n",
       "186                  0.06938  \n",
       "414                  0.06165  \n",
       "132                  0.07619  \n",
       "161                  0.06251  \n",
       "197                  0.06558  \n",
       "\n",
       "[8 rows x 30 columns]"
      ]
     },
     "execution_count": 6,
     "metadata": {},
     "output_type": "execute_result"
    }
   ],
   "source": [
    "features = pd.DataFrame(data=data_all.data, columns=data_all.feature_names)\n",
    "features.sample(n=8, random_state=1)"
   ]
  },
  {
   "cell_type": "markdown",
   "metadata": {},
   "source": [
    "**Preparing the data frame of the target**"
   ]
  },
  {
   "cell_type": "code",
   "execution_count": 7,
   "metadata": {
    "ExecuteTime": {
     "end_time": "2022-04-10T16:24:28.548147Z",
     "start_time": "2022-04-10T16:24:28.538464Z"
    }
   },
   "outputs": [
    {
     "data": {
      "text/html": [
       "<div>\n",
       "<style scoped>\n",
       "    .dataframe tbody tr th:only-of-type {\n",
       "        vertical-align: middle;\n",
       "    }\n",
       "\n",
       "    .dataframe tbody tr th {\n",
       "        vertical-align: top;\n",
       "    }\n",
       "\n",
       "    .dataframe thead th {\n",
       "        text-align: right;\n",
       "    }\n",
       "</style>\n",
       "<table border=\"1\" class=\"dataframe\">\n",
       "  <thead>\n",
       "    <tr style=\"text-align: right;\">\n",
       "      <th></th>\n",
       "      <th>tumor type</th>\n",
       "    </tr>\n",
       "  </thead>\n",
       "  <tbody>\n",
       "    <tr>\n",
       "      <th>421</th>\n",
       "      <td>1</td>\n",
       "    </tr>\n",
       "    <tr>\n",
       "      <th>47</th>\n",
       "      <td>0</td>\n",
       "    </tr>\n",
       "    <tr>\n",
       "      <th>292</th>\n",
       "      <td>1</td>\n",
       "    </tr>\n",
       "    <tr>\n",
       "      <th>186</th>\n",
       "      <td>0</td>\n",
       "    </tr>\n",
       "    <tr>\n",
       "      <th>414</th>\n",
       "      <td>0</td>\n",
       "    </tr>\n",
       "    <tr>\n",
       "      <th>132</th>\n",
       "      <td>0</td>\n",
       "    </tr>\n",
       "    <tr>\n",
       "      <th>161</th>\n",
       "      <td>0</td>\n",
       "    </tr>\n",
       "    <tr>\n",
       "      <th>197</th>\n",
       "      <td>0</td>\n",
       "    </tr>\n",
       "  </tbody>\n",
       "</table>\n",
       "</div>"
      ],
      "text/plain": [
       "     tumor type\n",
       "421           1\n",
       "47            0\n",
       "292           1\n",
       "186           0\n",
       "414           0\n",
       "132           0\n",
       "161           0\n",
       "197           0"
      ]
     },
     "execution_count": 7,
     "metadata": {},
     "output_type": "execute_result"
    }
   ],
   "source": [
    "target = pd.DataFrame(data=data_all.target, columns=['tumor type'])\n",
    "target.sample(n=8, random_state=1)"
   ]
  },
  {
   "cell_type": "code",
   "execution_count": 8,
   "metadata": {
    "ExecuteTime": {
     "end_time": "2022-04-10T16:24:28.553613Z",
     "start_time": "2022-04-10T16:24:28.550483Z"
    }
   },
   "outputs": [
    {
     "data": {
      "text/plain": [
       "array(['malignant', 'benign'], dtype='<U9')"
      ]
     },
     "execution_count": 8,
     "metadata": {},
     "output_type": "execute_result"
    }
   ],
   "source": [
    "data_all.target_names"
   ]
  },
  {
   "cell_type": "markdown",
   "metadata": {},
   "source": [
    "**To make it easier to do visual check of the data, we remove the encoding. You will have to re-encode the variable a different way later.**"
   ]
  },
  {
   "cell_type": "code",
   "execution_count": 9,
   "metadata": {
    "ExecuteTime": {
     "end_time": "2022-04-10T16:24:28.564870Z",
     "start_time": "2022-04-10T16:24:28.555876Z"
    }
   },
   "outputs": [
    {
     "data": {
      "text/html": [
       "<div>\n",
       "<style scoped>\n",
       "    .dataframe tbody tr th:only-of-type {\n",
       "        vertical-align: middle;\n",
       "    }\n",
       "\n",
       "    .dataframe tbody tr th {\n",
       "        vertical-align: top;\n",
       "    }\n",
       "\n",
       "    .dataframe thead th {\n",
       "        text-align: right;\n",
       "    }\n",
       "</style>\n",
       "<table border=\"1\" class=\"dataframe\">\n",
       "  <thead>\n",
       "    <tr style=\"text-align: right;\">\n",
       "      <th></th>\n",
       "      <th>tumor type</th>\n",
       "    </tr>\n",
       "  </thead>\n",
       "  <tbody>\n",
       "    <tr>\n",
       "      <th>421</th>\n",
       "      <td>benign</td>\n",
       "    </tr>\n",
       "    <tr>\n",
       "      <th>47</th>\n",
       "      <td>malignant</td>\n",
       "    </tr>\n",
       "    <tr>\n",
       "      <th>292</th>\n",
       "      <td>benign</td>\n",
       "    </tr>\n",
       "    <tr>\n",
       "      <th>186</th>\n",
       "      <td>malignant</td>\n",
       "    </tr>\n",
       "    <tr>\n",
       "      <th>414</th>\n",
       "      <td>malignant</td>\n",
       "    </tr>\n",
       "    <tr>\n",
       "      <th>132</th>\n",
       "      <td>malignant</td>\n",
       "    </tr>\n",
       "    <tr>\n",
       "      <th>161</th>\n",
       "      <td>malignant</td>\n",
       "    </tr>\n",
       "    <tr>\n",
       "      <th>197</th>\n",
       "      <td>malignant</td>\n",
       "    </tr>\n",
       "  </tbody>\n",
       "</table>\n",
       "</div>"
      ],
      "text/plain": [
       "    tumor type\n",
       "421     benign\n",
       "47   malignant\n",
       "292     benign\n",
       "186  malignant\n",
       "414  malignant\n",
       "132  malignant\n",
       "161  malignant\n",
       "197  malignant"
      ]
     },
     "execution_count": 9,
     "metadata": {},
     "output_type": "execute_result"
    }
   ],
   "source": [
    "target = target.replace({0:data_all.target_names[0], 1:data_all.target_names[1]})\n",
    "target.sample(n=8, random_state=1)"
   ]
  },
  {
   "cell_type": "markdown",
   "metadata": {},
   "source": [
    "## Your Mission\n",
    "We have here a large dataset that could help predict if a tumor is benign or malignant based on its characteristics. In this work, we will focus on a small number of features that we will use to train and assess logistic regressions.\n",
    "\n",
    "<font color=red><b>Questions in red have to be answered only after lecture session 6 (classification assessment).</font>"
   ]
  },
  {
   "cell_type": "markdown",
   "metadata": {},
   "source": [
    "## We check at first if the tumor radius is a good predictor for breast cancer. \n",
    "Starting here, you must use the data contained in the variables `features` and `target` as they were defined in the previous cells.\n",
    "###   1. Perform data exploration on the variable _mean radius_, to compare the distribution of its values between benign and malignant tumors.  "
   ]
  },
  {
   "cell_type": "code",
   "execution_count": 10,
   "metadata": {},
   "outputs": [],
   "source": [
    "#Split the data:\n",
    "df_combined = pd.concat([features, target], axis=1)\n",
    "X = df_combined.drop([\"tumor type\"], axis=1)\n",
    "y = df_combined[['tumor type']]\n",
    "X_train, X_test, y_train, y_test = train_test_split(\n",
    "X, y, test_size = 0.25, random_state = 42)\n",
    "\n"
   ]
  },
  {
   "cell_type": "code",
   "execution_count": 11,
   "metadata": {},
   "outputs": [
    {
     "name": "stdout",
     "output_type": "stream",
     "text": [
      "               min    max       mean  median\n",
      "tumor type                                  \n",
      "benign       7.691  17.85  12.187929  12.240\n",
      "malignant   10.950  28.11  17.404367  17.325\n"
     ]
    },
    {
     "data": {
      "image/png": "[encoded data removed]",
      "text/plain": [
       "<Figure size 640x480 with 1 Axes>"
      ]
     },
     "metadata": {},
     "output_type": "display_data"
    }
   ],
   "source": [
    "\n",
    "# Define palette colors for the violin plot\n",
    "palette_colors = {\"benign\": \"green\", \"malignant\": \"red\"}\n",
    "\n",
    "# Concatenate DataFrames along columns\n",
    "df_combined_training = pd.concat([X_train, y_train], axis=1)\n",
    "# Compute statistics for mean radius grouped by tumor type\n",
    "group_by_radius = df_combined_training.groupby(\"tumor type\")[\"mean radius\"].agg([np.min, np.max, np.mean, np.median])\n",
    "print(group_by_radius)\n",
    "\n",
    "# Create a violin plot showing the distribution of mean radius for each tumor type\n",
    "sns.violinplot(x=\"tumor type\", y=\"mean radius\", data=df_combined_training, palette=palette_colors)\n",
    "# Add title and labels\n",
    "plt.title('Distribution of Mean Radius by Tumor Type')\n",
    "plt.xlabel('Tumor Type')\n",
    "plt.ylabel('Mean Radius')\n",
    "# Display the plot\n",
    "plt.show()\n"
   ]
  },
  {
   "cell_type": "markdown",
   "metadata": {},
   "source": [
    "📝 Do you think _mean radius_ can make an good predictor of tumor type? Why? "
   ]
  },
  {
   "cell_type": "markdown",
   "metadata": {},
   "source": [
    " Mean radius is indeed a significant feature in predicting tumor type, as malignant tumors typically have larger mean radius compared to benign tumors. Therefore, I think, it could be good predictor of tumor type."
   ]
  },
  {
   "cell_type": "markdown",
   "metadata": {},
   "source": [
    "### 2. Encode the target variable _tumor type_ and make sure you use the following encoding:\n",
    "* 0 as 'benign'\n",
    "* 1 as 'malignant'  \n",
    "Since we are interested in the malignant tumors, we choose to encode them as 1."
   ]
  },
  {
   "cell_type": "code",
   "execution_count": 12,
   "metadata": {},
   "outputs": [
    {
     "name": "stdout",
     "output_type": "stream",
     "text": [
      "Encoded classes: ['benign' 'malignant']\n",
      "Encoding is consistent with the provided encoding dictionary.\n"
     ]
    }
   ],
   "source": [
    "\n",
    "\n",
    "# Define encoding dictionary\n",
    "encoding_dict = {'benign': 0, 'malignant': 1}\n",
    "# Initialize LabelEncoder\n",
    "label_encoder = LabelEncoder()\n",
    "# Fit and transform the training labels\n",
    "y_train_encoded = label_encoder.fit_transform(y_train.values.ravel())\n",
    "# Transform the test labels\n",
    "y_test_encoded = label_encoder.transform(y_test.values.ravel())\n",
    "# Check the classes that were encoded\n",
    "print(\"Encoded classes:\", label_encoder.classes_)\n",
    "# Check if the encoding is consistent with the encoding dictionary\n",
    "if all(label_encoder.transform(list(encoding_dict.keys())) == list(encoding_dict.values())):\n",
    "    print(\"Encoding is consistent with the provided encoding dictionary.\")\n",
    "else:\n",
    "    print(\"Encoding is not consistent with the provided encoding dictionary.\")\n",
    "\n",
    "# Create DataFrames for the encoded training and testing labels\n",
    "y_train_encoded_df = pd.DataFrame(data=y_train_encoded, columns=['tumor type'])\n",
    "y_test_encoded_df = pd.DataFrame(data=y_test_encoded, columns=['tumor type'])\n",
    "\n",
    "\n"
   ]
  },
  {
   "cell_type": "code",
   "execution_count": 13,
   "metadata": {},
   "outputs": [
    {
     "name": "stdout",
     "output_type": "stream",
     "text": [
      "     tumor type\n",
      "0             0\n",
      "1             1\n",
      "2             1\n",
      "3             0\n",
      "4             0\n",
      "..          ...\n",
      "138           0\n",
      "139           1\n",
      "140           0\n",
      "141           1\n",
      "142           0\n",
      "\n",
      "[143 rows x 1 columns]\n"
     ]
    }
   ],
   "source": [
    "print(y_test_encoded_df)"
   ]
  },
  {
   "cell_type": "markdown",
   "metadata": {},
   "source": [
    "### 3. Plot the target variable with respect to mean radius (scatter plot).  "
   ]
  },
  {
   "cell_type": "code",
   "execution_count": 14,
   "metadata": {},
   "outputs": [
    {
     "data": {
      "image/png": "[encoded data removed]",
      "text/plain": [
       "<Figure size 500x500 with 1 Axes>"
      ]
     },
     "metadata": {},
     "output_type": "display_data"
    }
   ],
   "source": [
    "\n",
    "df_combined_training['tumor type'] = y_train_encoded\n",
    "# Plot the scatter plot\n",
    "sns.relplot(y='tumor type', x=\"mean radius\",\n",
    "            data=df_combined_training,\n",
    "            kind=\"scatter\")\n",
    "\n",
    "# Add title and labels\n",
    "plt.title('Scatter Plot of Tumor Type vs Mean Radius')\n",
    "plt.xlabel('Mean Radius')\n",
    "plt.ylabel('Encoded Tumor Type')\n",
    "\n",
    "# Show the plot\n",
    "plt.show()\n"
   ]
  },
  {
   "cell_type": "code",
   "execution_count": 15,
   "metadata": {},
   "outputs": [
    {
     "data": {
      "text/html": [
       "<div>\n",
       "<style scoped>\n",
       "    .dataframe tbody tr th:only-of-type {\n",
       "        vertical-align: middle;\n",
       "    }\n",
       "\n",
       "    .dataframe tbody tr th {\n",
       "        vertical-align: top;\n",
       "    }\n",
       "\n",
       "    .dataframe thead th {\n",
       "        text-align: right;\n",
       "    }\n",
       "</style>\n",
       "<table border=\"1\" class=\"dataframe\">\n",
       "  <thead>\n",
       "    <tr style=\"text-align: right;\">\n",
       "      <th></th>\n",
       "      <th>mean radius</th>\n",
       "      <th>mean texture</th>\n",
       "      <th>mean perimeter</th>\n",
       "      <th>mean area</th>\n",
       "      <th>mean smoothness</th>\n",
       "      <th>mean compactness</th>\n",
       "      <th>mean concavity</th>\n",
       "      <th>mean concave points</th>\n",
       "      <th>mean symmetry</th>\n",
       "      <th>mean fractal dimension</th>\n",
       "      <th>...</th>\n",
       "      <th>worst texture</th>\n",
       "      <th>worst perimeter</th>\n",
       "      <th>worst area</th>\n",
       "      <th>worst smoothness</th>\n",
       "      <th>worst compactness</th>\n",
       "      <th>worst concavity</th>\n",
       "      <th>worst concave points</th>\n",
       "      <th>worst symmetry</th>\n",
       "      <th>worst fractal dimension</th>\n",
       "      <th>tumor type</th>\n",
       "    </tr>\n",
       "  </thead>\n",
       "  <tbody>\n",
       "    <tr>\n",
       "      <th>287</th>\n",
       "      <td>12.890</td>\n",
       "      <td>13.12</td>\n",
       "      <td>81.89</td>\n",
       "      <td>515.9</td>\n",
       "      <td>0.06955</td>\n",
       "      <td>0.03729</td>\n",
       "      <td>0.022600</td>\n",
       "      <td>0.011710</td>\n",
       "      <td>0.1337</td>\n",
       "      <td>0.05581</td>\n",
       "      <td>...</td>\n",
       "      <td>15.54</td>\n",
       "      <td>87.40</td>\n",
       "      <td>577.0</td>\n",
       "      <td>0.09616</td>\n",
       "      <td>0.11470</td>\n",
       "      <td>0.11860</td>\n",
       "      <td>0.05366</td>\n",
       "      <td>0.2309</td>\n",
       "      <td>0.06915</td>\n",
       "      <td>0</td>\n",
       "    </tr>\n",
       "    <tr>\n",
       "      <th>512</th>\n",
       "      <td>13.400</td>\n",
       "      <td>20.52</td>\n",
       "      <td>88.64</td>\n",
       "      <td>556.7</td>\n",
       "      <td>0.11060</td>\n",
       "      <td>0.14690</td>\n",
       "      <td>0.144500</td>\n",
       "      <td>0.081720</td>\n",
       "      <td>0.2116</td>\n",
       "      <td>0.07325</td>\n",
       "      <td>...</td>\n",
       "      <td>29.66</td>\n",
       "      <td>113.30</td>\n",
       "      <td>844.4</td>\n",
       "      <td>0.15740</td>\n",
       "      <td>0.38560</td>\n",
       "      <td>0.51060</td>\n",
       "      <td>0.20510</td>\n",
       "      <td>0.3585</td>\n",
       "      <td>0.11090</td>\n",
       "      <td>1</td>\n",
       "    </tr>\n",
       "    <tr>\n",
       "      <th>402</th>\n",
       "      <td>12.960</td>\n",
       "      <td>18.29</td>\n",
       "      <td>84.18</td>\n",
       "      <td>525.2</td>\n",
       "      <td>0.07351</td>\n",
       "      <td>0.07899</td>\n",
       "      <td>0.040570</td>\n",
       "      <td>0.018830</td>\n",
       "      <td>0.1874</td>\n",
       "      <td>0.05899</td>\n",
       "      <td>...</td>\n",
       "      <td>24.61</td>\n",
       "      <td>96.31</td>\n",
       "      <td>621.9</td>\n",
       "      <td>0.09329</td>\n",
       "      <td>0.23180</td>\n",
       "      <td>0.16040</td>\n",
       "      <td>0.06608</td>\n",
       "      <td>0.3207</td>\n",
       "      <td>0.07247</td>\n",
       "      <td>0</td>\n",
       "    </tr>\n",
       "    <tr>\n",
       "      <th>446</th>\n",
       "      <td>17.750</td>\n",
       "      <td>28.03</td>\n",
       "      <td>117.30</td>\n",
       "      <td>981.6</td>\n",
       "      <td>0.09997</td>\n",
       "      <td>0.13140</td>\n",
       "      <td>0.169800</td>\n",
       "      <td>0.082930</td>\n",
       "      <td>0.1713</td>\n",
       "      <td>0.05916</td>\n",
       "      <td>...</td>\n",
       "      <td>38.54</td>\n",
       "      <td>145.40</td>\n",
       "      <td>1437.0</td>\n",
       "      <td>0.14010</td>\n",
       "      <td>0.37620</td>\n",
       "      <td>0.63990</td>\n",
       "      <td>0.19700</td>\n",
       "      <td>0.2972</td>\n",
       "      <td>0.09075</td>\n",
       "      <td>1</td>\n",
       "    </tr>\n",
       "    <tr>\n",
       "      <th>210</th>\n",
       "      <td>20.580</td>\n",
       "      <td>22.14</td>\n",
       "      <td>134.70</td>\n",
       "      <td>1290.0</td>\n",
       "      <td>0.09090</td>\n",
       "      <td>0.13480</td>\n",
       "      <td>0.164000</td>\n",
       "      <td>0.095610</td>\n",
       "      <td>0.1765</td>\n",
       "      <td>0.05024</td>\n",
       "      <td>...</td>\n",
       "      <td>27.84</td>\n",
       "      <td>158.30</td>\n",
       "      <td>1656.0</td>\n",
       "      <td>0.11780</td>\n",
       "      <td>0.29200</td>\n",
       "      <td>0.38610</td>\n",
       "      <td>0.19200</td>\n",
       "      <td>0.2909</td>\n",
       "      <td>0.05865</td>\n",
       "      <td>1</td>\n",
       "    </tr>\n",
       "    <tr>\n",
       "      <th>184</th>\n",
       "      <td>15.280</td>\n",
       "      <td>22.41</td>\n",
       "      <td>98.92</td>\n",
       "      <td>710.6</td>\n",
       "      <td>0.09057</td>\n",
       "      <td>0.10520</td>\n",
       "      <td>0.053750</td>\n",
       "      <td>0.032630</td>\n",
       "      <td>0.1727</td>\n",
       "      <td>0.06317</td>\n",
       "      <td>...</td>\n",
       "      <td>28.03</td>\n",
       "      <td>113.80</td>\n",
       "      <td>973.1</td>\n",
       "      <td>0.13010</td>\n",
       "      <td>0.32990</td>\n",
       "      <td>0.36300</td>\n",
       "      <td>0.12260</td>\n",
       "      <td>0.3175</td>\n",
       "      <td>0.09772</td>\n",
       "      <td>1</td>\n",
       "    </tr>\n",
       "    <tr>\n",
       "      <th>442</th>\n",
       "      <td>13.780</td>\n",
       "      <td>15.79</td>\n",
       "      <td>88.37</td>\n",
       "      <td>585.9</td>\n",
       "      <td>0.08817</td>\n",
       "      <td>0.06718</td>\n",
       "      <td>0.010550</td>\n",
       "      <td>0.009937</td>\n",
       "      <td>0.1405</td>\n",
       "      <td>0.05848</td>\n",
       "      <td>...</td>\n",
       "      <td>17.50</td>\n",
       "      <td>97.90</td>\n",
       "      <td>706.6</td>\n",
       "      <td>0.10720</td>\n",
       "      <td>0.10710</td>\n",
       "      <td>0.03517</td>\n",
       "      <td>0.03312</td>\n",
       "      <td>0.1859</td>\n",
       "      <td>0.06810</td>\n",
       "      <td>0</td>\n",
       "    </tr>\n",
       "    <tr>\n",
       "      <th>54</th>\n",
       "      <td>15.100</td>\n",
       "      <td>22.02</td>\n",
       "      <td>97.26</td>\n",
       "      <td>712.8</td>\n",
       "      <td>0.09056</td>\n",
       "      <td>0.07081</td>\n",
       "      <td>0.052530</td>\n",
       "      <td>0.033340</td>\n",
       "      <td>0.1616</td>\n",
       "      <td>0.05684</td>\n",
       "      <td>...</td>\n",
       "      <td>31.69</td>\n",
       "      <td>117.70</td>\n",
       "      <td>1030.0</td>\n",
       "      <td>0.13890</td>\n",
       "      <td>0.20570</td>\n",
       "      <td>0.27120</td>\n",
       "      <td>0.15300</td>\n",
       "      <td>0.2675</td>\n",
       "      <td>0.07873</td>\n",
       "      <td>1</td>\n",
       "    </tr>\n",
       "    <tr>\n",
       "      <th>404</th>\n",
       "      <td>12.340</td>\n",
       "      <td>14.95</td>\n",
       "      <td>78.29</td>\n",
       "      <td>469.1</td>\n",
       "      <td>0.08682</td>\n",
       "      <td>0.04571</td>\n",
       "      <td>0.021090</td>\n",
       "      <td>0.020540</td>\n",
       "      <td>0.1571</td>\n",
       "      <td>0.05708</td>\n",
       "      <td>...</td>\n",
       "      <td>16.85</td>\n",
       "      <td>84.11</td>\n",
       "      <td>533.1</td>\n",
       "      <td>0.10480</td>\n",
       "      <td>0.06744</td>\n",
       "      <td>0.04921</td>\n",
       "      <td>0.04793</td>\n",
       "      <td>0.2298</td>\n",
       "      <td>0.05974</td>\n",
       "      <td>0</td>\n",
       "    </tr>\n",
       "    <tr>\n",
       "      <th>46</th>\n",
       "      <td>8.196</td>\n",
       "      <td>16.84</td>\n",
       "      <td>51.71</td>\n",
       "      <td>201.9</td>\n",
       "      <td>0.08600</td>\n",
       "      <td>0.05943</td>\n",
       "      <td>0.015880</td>\n",
       "      <td>0.005917</td>\n",
       "      <td>0.1769</td>\n",
       "      <td>0.06503</td>\n",
       "      <td>...</td>\n",
       "      <td>21.96</td>\n",
       "      <td>57.26</td>\n",
       "      <td>242.2</td>\n",
       "      <td>0.12970</td>\n",
       "      <td>0.13570</td>\n",
       "      <td>0.06880</td>\n",
       "      <td>0.02564</td>\n",
       "      <td>0.3105</td>\n",
       "      <td>0.07409</td>\n",
       "      <td>0</td>\n",
       "    </tr>\n",
       "    <tr>\n",
       "      <th>93</th>\n",
       "      <td>13.450</td>\n",
       "      <td>18.30</td>\n",
       "      <td>86.60</td>\n",
       "      <td>555.1</td>\n",
       "      <td>0.10220</td>\n",
       "      <td>0.08165</td>\n",
       "      <td>0.039740</td>\n",
       "      <td>0.027800</td>\n",
       "      <td>0.1638</td>\n",
       "      <td>0.05710</td>\n",
       "      <td>...</td>\n",
       "      <td>25.94</td>\n",
       "      <td>97.59</td>\n",
       "      <td>699.4</td>\n",
       "      <td>0.13390</td>\n",
       "      <td>0.17510</td>\n",
       "      <td>0.13810</td>\n",
       "      <td>0.07911</td>\n",
       "      <td>0.2678</td>\n",
       "      <td>0.06603</td>\n",
       "      <td>0</td>\n",
       "    </tr>\n",
       "    <tr>\n",
       "      <th>231</th>\n",
       "      <td>11.320</td>\n",
       "      <td>27.08</td>\n",
       "      <td>71.76</td>\n",
       "      <td>395.7</td>\n",
       "      <td>0.06883</td>\n",
       "      <td>0.03813</td>\n",
       "      <td>0.016330</td>\n",
       "      <td>0.003125</td>\n",
       "      <td>0.1869</td>\n",
       "      <td>0.05628</td>\n",
       "      <td>...</td>\n",
       "      <td>33.75</td>\n",
       "      <td>79.82</td>\n",
       "      <td>452.3</td>\n",
       "      <td>0.09203</td>\n",
       "      <td>0.14320</td>\n",
       "      <td>0.10890</td>\n",
       "      <td>0.02083</td>\n",
       "      <td>0.2849</td>\n",
       "      <td>0.07087</td>\n",
       "      <td>0</td>\n",
       "    </tr>\n",
       "    <tr>\n",
       "      <th>108</th>\n",
       "      <td>22.270</td>\n",
       "      <td>19.67</td>\n",
       "      <td>152.80</td>\n",
       "      <td>1509.0</td>\n",
       "      <td>0.13260</td>\n",
       "      <td>0.27680</td>\n",
       "      <td>0.426400</td>\n",
       "      <td>0.182300</td>\n",
       "      <td>0.2556</td>\n",
       "      <td>0.07039</td>\n",
       "      <td>...</td>\n",
       "      <td>28.01</td>\n",
       "      <td>206.80</td>\n",
       "      <td>2360.0</td>\n",
       "      <td>0.17010</td>\n",
       "      <td>0.69970</td>\n",
       "      <td>0.96080</td>\n",
       "      <td>0.29100</td>\n",
       "      <td>0.4055</td>\n",
       "      <td>0.09789</td>\n",
       "      <td>1</td>\n",
       "    </tr>\n",
       "    <tr>\n",
       "      <th>244</th>\n",
       "      <td>19.400</td>\n",
       "      <td>23.50</td>\n",
       "      <td>129.10</td>\n",
       "      <td>1155.0</td>\n",
       "      <td>0.10270</td>\n",
       "      <td>0.15580</td>\n",
       "      <td>0.204900</td>\n",
       "      <td>0.088860</td>\n",
       "      <td>0.1978</td>\n",
       "      <td>0.06000</td>\n",
       "      <td>...</td>\n",
       "      <td>30.53</td>\n",
       "      <td>144.90</td>\n",
       "      <td>1417.0</td>\n",
       "      <td>0.14630</td>\n",
       "      <td>0.29680</td>\n",
       "      <td>0.34580</td>\n",
       "      <td>0.15640</td>\n",
       "      <td>0.2920</td>\n",
       "      <td>0.07614</td>\n",
       "      <td>1</td>\n",
       "    </tr>\n",
       "    <tr>\n",
       "      <th>568</th>\n",
       "      <td>7.760</td>\n",
       "      <td>24.54</td>\n",
       "      <td>47.92</td>\n",
       "      <td>181.0</td>\n",
       "      <td>0.05263</td>\n",
       "      <td>0.04362</td>\n",
       "      <td>0.000000</td>\n",
       "      <td>0.000000</td>\n",
       "      <td>0.1587</td>\n",
       "      <td>0.05884</td>\n",
       "      <td>...</td>\n",
       "      <td>30.37</td>\n",
       "      <td>59.16</td>\n",
       "      <td>268.6</td>\n",
       "      <td>0.08996</td>\n",
       "      <td>0.06444</td>\n",
       "      <td>0.00000</td>\n",
       "      <td>0.00000</td>\n",
       "      <td>0.2871</td>\n",
       "      <td>0.07039</td>\n",
       "      <td>0</td>\n",
       "    </tr>\n",
       "    <tr>\n",
       "      <th>434</th>\n",
       "      <td>14.860</td>\n",
       "      <td>16.94</td>\n",
       "      <td>94.89</td>\n",
       "      <td>673.7</td>\n",
       "      <td>0.08924</td>\n",
       "      <td>0.07074</td>\n",
       "      <td>0.033460</td>\n",
       "      <td>0.028770</td>\n",
       "      <td>0.1573</td>\n",
       "      <td>0.05703</td>\n",
       "      <td>...</td>\n",
       "      <td>20.54</td>\n",
       "      <td>102.30</td>\n",
       "      <td>777.5</td>\n",
       "      <td>0.12180</td>\n",
       "      <td>0.15500</td>\n",
       "      <td>0.12200</td>\n",
       "      <td>0.07971</td>\n",
       "      <td>0.2525</td>\n",
       "      <td>0.06827</td>\n",
       "      <td>0</td>\n",
       "    </tr>\n",
       "    <tr>\n",
       "      <th>428</th>\n",
       "      <td>11.130</td>\n",
       "      <td>16.62</td>\n",
       "      <td>70.47</td>\n",
       "      <td>381.1</td>\n",
       "      <td>0.08151</td>\n",
       "      <td>0.03834</td>\n",
       "      <td>0.013690</td>\n",
       "      <td>0.013700</td>\n",
       "      <td>0.1511</td>\n",
       "      <td>0.06148</td>\n",
       "      <td>...</td>\n",
       "      <td>20.29</td>\n",
       "      <td>74.35</td>\n",
       "      <td>421.1</td>\n",
       "      <td>0.10300</td>\n",
       "      <td>0.06219</td>\n",
       "      <td>0.04580</td>\n",
       "      <td>0.04044</td>\n",
       "      <td>0.2383</td>\n",
       "      <td>0.07083</td>\n",
       "      <td>0</td>\n",
       "    </tr>\n",
       "    <tr>\n",
       "      <th>192</th>\n",
       "      <td>9.720</td>\n",
       "      <td>18.22</td>\n",
       "      <td>60.73</td>\n",
       "      <td>288.1</td>\n",
       "      <td>0.06950</td>\n",
       "      <td>0.02344</td>\n",
       "      <td>0.000000</td>\n",
       "      <td>0.000000</td>\n",
       "      <td>0.1653</td>\n",
       "      <td>0.06447</td>\n",
       "      <td>...</td>\n",
       "      <td>20.83</td>\n",
       "      <td>62.25</td>\n",
       "      <td>303.8</td>\n",
       "      <td>0.07117</td>\n",
       "      <td>0.02729</td>\n",
       "      <td>0.00000</td>\n",
       "      <td>0.00000</td>\n",
       "      <td>0.1909</td>\n",
       "      <td>0.06559</td>\n",
       "      <td>0</td>\n",
       "    </tr>\n",
       "    <tr>\n",
       "      <th>341</th>\n",
       "      <td>9.606</td>\n",
       "      <td>16.84</td>\n",
       "      <td>61.64</td>\n",
       "      <td>280.5</td>\n",
       "      <td>0.08481</td>\n",
       "      <td>0.09228</td>\n",
       "      <td>0.084220</td>\n",
       "      <td>0.022920</td>\n",
       "      <td>0.2036</td>\n",
       "      <td>0.07125</td>\n",
       "      <td>...</td>\n",
       "      <td>23.07</td>\n",
       "      <td>71.25</td>\n",
       "      <td>353.6</td>\n",
       "      <td>0.12330</td>\n",
       "      <td>0.34160</td>\n",
       "      <td>0.43410</td>\n",
       "      <td>0.08120</td>\n",
       "      <td>0.2982</td>\n",
       "      <td>0.09825</td>\n",
       "      <td>0</td>\n",
       "    </tr>\n",
       "    <tr>\n",
       "      <th>185</th>\n",
       "      <td>10.080</td>\n",
       "      <td>15.11</td>\n",
       "      <td>63.76</td>\n",
       "      <td>317.5</td>\n",
       "      <td>0.09267</td>\n",
       "      <td>0.04695</td>\n",
       "      <td>0.001597</td>\n",
       "      <td>0.002404</td>\n",
       "      <td>0.1703</td>\n",
       "      <td>0.06048</td>\n",
       "      <td>...</td>\n",
       "      <td>21.18</td>\n",
       "      <td>75.39</td>\n",
       "      <td>437.0</td>\n",
       "      <td>0.15210</td>\n",
       "      <td>0.10190</td>\n",
       "      <td>0.00692</td>\n",
       "      <td>0.01042</td>\n",
       "      <td>0.2933</td>\n",
       "      <td>0.07697</td>\n",
       "      <td>0</td>\n",
       "    </tr>\n",
       "  </tbody>\n",
       "</table>\n",
       "<p>20 rows × 31 columns</p>\n",
       "</div>"
      ],
      "text/plain": [
       "     mean radius  mean texture  mean perimeter  mean area  mean smoothness  \\\n",
       "287       12.890         13.12           81.89      515.9          0.06955   \n",
       "512       13.400         20.52           88.64      556.7          0.11060   \n",
       "402       12.960         18.29           84.18      525.2          0.07351   \n",
       "446       17.750         28.03          117.30      981.6          0.09997   \n",
       "210       20.580         22.14          134.70     1290.0          0.09090   \n",
       "184       15.280         22.41           98.92      710.6          0.09057   \n",
       "442       13.780         15.79           88.37      585.9          0.08817   \n",
       "54        15.100         22.02           97.26      712.8          0.09056   \n",
       "404       12.340         14.95           78.29      469.1          0.08682   \n",
       "46         8.196         16.84           51.71      201.9          0.08600   \n",
       "93        13.450         18.30           86.60      555.1          0.10220   \n",
       "231       11.320         27.08           71.76      395.7          0.06883   \n",
       "108       22.270         19.67          152.80     1509.0          0.13260   \n",
       "244       19.400         23.50          129.10     1155.0          0.10270   \n",
       "568        7.760         24.54           47.92      181.0          0.05263   \n",
       "434       14.860         16.94           94.89      673.7          0.08924   \n",
       "428       11.130         16.62           70.47      381.1          0.08151   \n",
       "192        9.720         18.22           60.73      288.1          0.06950   \n",
       "341        9.606         16.84           61.64      280.5          0.08481   \n",
       "185       10.080         15.11           63.76      317.5          0.09267   \n",
       "\n",
       "     mean compactness  mean concavity  mean concave points  mean symmetry  \\\n",
       "287           0.03729        0.022600             0.011710         0.1337   \n",
       "512           0.14690        0.144500             0.081720         0.2116   \n",
       "402           0.07899        0.040570             0.018830         0.1874   \n",
       "446           0.13140        0.169800             0.082930         0.1713   \n",
       "210           0.13480        0.164000             0.095610         0.1765   \n",
       "184           0.10520        0.053750             0.032630         0.1727   \n",
       "442           0.06718        0.010550             0.009937         0.1405   \n",
       "54            0.07081        0.052530             0.033340         0.1616   \n",
       "404           0.04571        0.021090             0.020540         0.1571   \n",
       "46            0.05943        0.015880             0.005917         0.1769   \n",
       "93            0.08165        0.039740             0.027800         0.1638   \n",
       "231           0.03813        0.016330             0.003125         0.1869   \n",
       "108           0.27680        0.426400             0.182300         0.2556   \n",
       "244           0.15580        0.204900             0.088860         0.1978   \n",
       "568           0.04362        0.000000             0.000000         0.1587   \n",
       "434           0.07074        0.033460             0.028770         0.1573   \n",
       "428           0.03834        0.013690             0.013700         0.1511   \n",
       "192           0.02344        0.000000             0.000000         0.1653   \n",
       "341           0.09228        0.084220             0.022920         0.2036   \n",
       "185           0.04695        0.001597             0.002404         0.1703   \n",
       "\n",
       "     mean fractal dimension  ...  worst texture  worst perimeter  worst area  \\\n",
       "287                 0.05581  ...          15.54            87.40       577.0   \n",
       "512                 0.07325  ...          29.66           113.30       844.4   \n",
       "402                 0.05899  ...          24.61            96.31       621.9   \n",
       "446                 0.05916  ...          38.54           145.40      1437.0   \n",
       "210                 0.05024  ...          27.84           158.30      1656.0   \n",
       "184                 0.06317  ...          28.03           113.80       973.1   \n",
       "442                 0.05848  ...          17.50            97.90       706.6   \n",
       "54                  0.05684  ...          31.69           117.70      1030.0   \n",
       "404                 0.05708  ...          16.85            84.11       533.1   \n",
       "46                  0.06503  ...          21.96            57.26       242.2   \n",
       "93                  0.05710  ...          25.94            97.59       699.4   \n",
       "231                 0.05628  ...          33.75            79.82       452.3   \n",
       "108                 0.07039  ...          28.01           206.80      2360.0   \n",
       "244                 0.06000  ...          30.53           144.90      1417.0   \n",
       "568                 0.05884  ...          30.37            59.16       268.6   \n",
       "434                 0.05703  ...          20.54           102.30       777.5   \n",
       "428                 0.06148  ...          20.29            74.35       421.1   \n",
       "192                 0.06447  ...          20.83            62.25       303.8   \n",
       "341                 0.07125  ...          23.07            71.25       353.6   \n",
       "185                 0.06048  ...          21.18            75.39       437.0   \n",
       "\n",
       "     worst smoothness  worst compactness  worst concavity  \\\n",
       "287           0.09616            0.11470          0.11860   \n",
       "512           0.15740            0.38560          0.51060   \n",
       "402           0.09329            0.23180          0.16040   \n",
       "446           0.14010            0.37620          0.63990   \n",
       "210           0.11780            0.29200          0.38610   \n",
       "184           0.13010            0.32990          0.36300   \n",
       "442           0.10720            0.10710          0.03517   \n",
       "54            0.13890            0.20570          0.27120   \n",
       "404           0.10480            0.06744          0.04921   \n",
       "46            0.12970            0.13570          0.06880   \n",
       "93            0.13390            0.17510          0.13810   \n",
       "231           0.09203            0.14320          0.10890   \n",
       "108           0.17010            0.69970          0.96080   \n",
       "244           0.14630            0.29680          0.34580   \n",
       "568           0.08996            0.06444          0.00000   \n",
       "434           0.12180            0.15500          0.12200   \n",
       "428           0.10300            0.06219          0.04580   \n",
       "192           0.07117            0.02729          0.00000   \n",
       "341           0.12330            0.34160          0.43410   \n",
       "185           0.15210            0.10190          0.00692   \n",
       "\n",
       "     worst concave points  worst symmetry  worst fractal dimension  tumor type  \n",
       "287               0.05366          0.2309                  0.06915           0  \n",
       "512               0.20510          0.3585                  0.11090           1  \n",
       "402               0.06608          0.3207                  0.07247           0  \n",
       "446               0.19700          0.2972                  0.09075           1  \n",
       "210               0.19200          0.2909                  0.05865           1  \n",
       "184               0.12260          0.3175                  0.09772           1  \n",
       "442               0.03312          0.1859                  0.06810           0  \n",
       "54                0.15300          0.2675                  0.07873           1  \n",
       "404               0.04793          0.2298                  0.05974           0  \n",
       "46                0.02564          0.3105                  0.07409           0  \n",
       "93                0.07911          0.2678                  0.06603           0  \n",
       "231               0.02083          0.2849                  0.07087           0  \n",
       "108               0.29100          0.4055                  0.09789           1  \n",
       "244               0.15640          0.2920                  0.07614           1  \n",
       "568               0.00000          0.2871                  0.07039           0  \n",
       "434               0.07971          0.2525                  0.06827           0  \n",
       "428               0.04044          0.2383                  0.07083           0  \n",
       "192               0.00000          0.1909                  0.06559           0  \n",
       "341               0.08120          0.2982                  0.09825           0  \n",
       "185               0.01042          0.2933                  0.07697           0  \n",
       "\n",
       "[20 rows x 31 columns]"
      ]
     },
     "execution_count": 15,
     "metadata": {},
     "output_type": "execute_result"
    }
   ],
   "source": [
    "df_combined_training.head(20)"
   ]
  },
  {
   "cell_type": "markdown",
   "metadata": {},
   "source": [
    "📝 Do you think a logistic regression model can model the relationship between the two variables reasonably well?  \n",
    "Why or why not?"
   ]
  },
  {
   "cell_type": "markdown",
   "metadata": {},
   "source": [
    "Yes, a logistic regression model can reasonably model the relationship between the two variables, mean radius and tumor type. The scatter plot shows a clear separation between the two tumor types based on the mean radius. The logistic function can effectively capture this relationship by fitting a sigmoid curve to the data points, allowing for accurate prediction of tumor type (benign or malignant) based on mean radius."
   ]
  },
  {
   "cell_type": "markdown",
   "metadata": {},
   "source": [
    "### 4. Train a logistic regression model using only mean radius as a feature.\n"
   ]
  },
  {
   "cell_type": "code",
   "execution_count": 16,
   "metadata": {},
   "outputs": [
    {
     "name": "stdout",
     "output_type": "stream",
     "text": [
      "Accuracy of the logistic regression model using only mean radius as a feature: 0.9090909090909091\n"
     ]
    }
   ],
   "source": [
    "\n",
    "X_train_mean_radius = pd.DataFrame(data=X_train['mean radius'], columns=['mean radius'])\n",
    "X_test_mean_radius = pd.DataFrame(data=X_test['mean radius'], columns=['mean radius'])\n",
    "\n",
    "log_reg_model_mean_radius = LogisticRegression()\n",
    "log_reg_model_mean_radius.fit(X_train_mean_radius, y_train_encoded)\n",
    "\n",
    "y_pred_mean_radius = log_reg_model_mean_radius.predict(X_test_mean_radius)\n",
    "\n",
    "accuracy_radius = accuracy_score(y_test_encoded, y_pred_mean_radius)\n",
    "print(\"Accuracy of the logistic regression model using only mean radius as a feature:\", accuracy_radius)\n",
    "\n"
   ]
  },
  {
   "cell_type": "markdown",
   "metadata": {},
   "source": [
    "### 5. Reproduce the plot you made in question (3) and add a curve to show the probability of having a malignant tumor for any value of _mean radius,_ according to your logistic regression model. \n",
    "More formally, the curve should represent the following probability:  \n",
    "        $P\\left( Y=1 \\left| X=x \\right. \\right)$ _where $Y$ is the tumor type and $x$ is the mean radius._"
   ]
  },
  {
   "cell_type": "markdown",
   "metadata": {},
   "source": [
    "Here is a piece of code that will display the probability curve of your model. Modify it so the scatter plot of the data appear on the same plot as the probability curve:"
   ]
  },
  {
   "cell_type": "code",
   "execution_count": 17,
   "metadata": {},
   "outputs": [
    {
     "data": {
      "image/png": "[encoded data removed]",
      "text/plain": [
       "<Figure size 640x480 with 1 Axes>"
      ]
     },
     "metadata": {},
     "output_type": "display_data"
    }
   ],
   "source": [
    "import numpy as np\n",
    "import seaborn as sns\n",
    "import matplotlib.pyplot as plt\n",
    "\n",
    "# Complete this line\n",
    "logistic_regression = log_reg_model_mean_radius ## This variable should point to your trained model\n",
    "\n",
    "####\n",
    "# Don't touch the rest of this cell\n",
    "X_curve = np.arange(np.min(X_train_mean_radius.to_numpy()), np.max(X_train_mean_radius.to_numpy()), 0.1).reshape(-1, 1)\n",
    "y_proba = logistic_regression.predict_proba(X_curve) ## Get the corresponding probability predictions\n",
    "y_proba_class1 = y_proba[:,1]  ## Isolate the probability for the positive class (P(Y=1))\n",
    "\n",
    "# Plot the probability curve with a smooth line\n",
    "plt.plot(X_curve, y_proba_class1, c='red', linestyle='-', linewidth=2, label='Probability of Malignant Tumor')\n",
    "\n",
    "# Plot the scatter plot of training data with markers\n",
    "sns.scatterplot(x=X_train_mean_radius['mean radius'], y=y_train_encoded, color='blue', marker='o', label='Training Data')\n",
    "\n",
    "# Add legend for both curves with adjusted size and position\n",
    "plt.legend(loc='lower right', fontsize='x-small')\n",
    "\n",
    "# Add title and labels\n",
    "plt.title('Probability of Malignant Tumor vs Mean Radius')\n",
    "plt.xlabel('Mean Radius')\n",
    "plt.ylabel('Encoded Tumor Type')\n",
    "\n",
    "# Show grid for better visualization\n",
    "plt.grid(True)\n",
    "\n",
    "# Show the plot\n",
    "plt.show()\n"
   ]
  },
  {
   "cell_type": "markdown",
   "metadata": {},
   "source": [
    "###  6. According to your model, what is the minimum _mean radius_ value for considering that the tumor is malignant?  \n",
    "  Make a few predictions with your model with different values of _mean radius_ to check your intuition. "
   ]
  },
  {
   "cell_type": "code",
   "execution_count": 18,
   "metadata": {},
   "outputs": [
    {
     "name": "stdout",
     "output_type": "stream",
     "text": [
      "Minimum mean radius for predicting malignancy: 14.890999999999973\n"
     ]
    }
   ],
   "source": [
    "threshold = 0.5\n",
    "\n",
    "for mean_radius in np.arange(np.min(X_train_mean_radius), np.max(X_train_mean_radius), 0.1):\n",
    "    probability_malignant = log_reg_model_mean_radius.predict_proba([[mean_radius]])[:, 1][0]\n",
    "    if probability_malignant >= threshold:\n",
    "        print(f\"Minimum mean radius for predicting malignancy: {mean_radius}\")\n",
    "        break\n"
   ]
  },
  {
   "cell_type": "markdown",
   "metadata": {},
   "source": [
    "### <font color=red>7. Compute the performance metrics for your model.</font> "
   ]
  },
  {
   "cell_type": "markdown",
   "metadata": {},
   "source": [
    "a) Compute and display the confusion matrix."
   ]
  },
  {
   "cell_type": "code",
   "execution_count": 19,
   "metadata": {},
   "outputs": [
    {
     "name": "stdout",
     "output_type": "stream",
     "text": [
      "Confusion Matrix:\n",
      "[[85  4]\n",
      " [ 9 45]]\n"
     ]
    },
    {
     "data": {
      "image/png": "[encoded data removed]",
      "text/plain": [
       "<Figure size 640x480 with 2 Axes>"
      ]
     },
     "metadata": {},
     "output_type": "display_data"
    }
   ],
   "source": [
    "\n",
    "\n",
    "\n",
    "\n",
    "conf_matrix = confusion_matrix(y_test_encoded, y_pred_mean_radius)\n",
    "disp = ConfusionMatrixDisplay(confusion_matrix=conf_matrix, display_labels=[\"benign\", \"malignant\"])\n",
    "ax = disp.plot()\n",
    "\n",
    "print(\"Confusion Matrix:\")\n",
    "print(conf_matrix)\n"
   ]
  },
  {
   "cell_type": "markdown",
   "metadata": {},
   "source": [
    "b) Compute the accuracy, precision and recall \"by hand\" using the values that appear in the confusion matrix. \n"
   ]
  },
  {
   "cell_type": "code",
   "execution_count": 20,
   "metadata": {},
   "outputs": [
    {
     "name": "stdout",
     "output_type": "stream",
     "text": [
      "Accuracy: 0.9090909090909091\n",
      "Recall: 0.8333333333333334\n",
      "Precision: 0.9183673469387755\n"
     ]
    }
   ],
   "source": [
    "accuracy = (conf_matrix[0, 0] + conf_matrix[1, 1]) / np.sum(conf_matrix)\n",
    "print(\"Accuracy:\", accuracy)\n",
    "recall = conf_matrix[1, 1] / (conf_matrix[1, 1] + conf_matrix[1, 0])\n",
    "print(\"Recall:\", recall)\n",
    "precision = conf_matrix[1, 1] / (conf_matrix[1, 1] + conf_matrix[0, 1])\n",
    "print(\"Precision:\", precision)\n",
    "\n"
   ]
  },
  {
   "cell_type": "markdown",
   "metadata": {},
   "source": [
    "c) Compute the f1-score"
   ]
  },
  {
   "cell_type": "code",
   "execution_count": 21,
   "metadata": {},
   "outputs": [
    {
     "name": "stdout",
     "output_type": "stream",
     "text": [
      "F1-score: 0.8737864077669903\n"
     ]
    }
   ],
   "source": [
    "\n",
    "\n",
    "f1 = f1_score(y_test_encoded, y_pred_mean_radius)\n",
    "print(\"F1-score:\", f1)"
   ]
  },
  {
   "cell_type": "markdown",
   "metadata": {},
   "source": [
    "d) 📝 Comment your results. What can you say about your model's performance?"
   ]
  },
  {
   "cell_type": "markdown",
   "metadata": {},
   "source": [
    "- 1) Accuracy: The model correctly classifies tumors as malignant or benign approximately 91% of the time.\n",
    "- 2) Recall: Around 83% of the malignant tumors present in the dataset are correctly identified by the model.\n",
    "- 3) Precision: Out of all the tumors predicted as malignant by the model, approximately 92% are actually malignant.\n",
    "- 4) F1-score: A balanced assessment of the model's performance, accounting for both false positives and false negatives, yielding a value of 0.874.\n",
    "\n",
    "\n",
    "Overall, these results suggest that the model performs well in distinguishing between malignant and benign tumors, with a good balance between precision and recall."
   ]
  },
  {
   "cell_type": "markdown",
   "metadata": {},
   "source": [
    "### <font color=red>8. Imagine that you are developing this algorithm for an oncologist."
   ]
  },
  {
   "cell_type": "markdown",
   "metadata": {},
   "source": [
    "a) 📝 Should you focus on maximizing the recall or the precision of the prediction? Why? "
   ]
  },
  {
   "cell_type": "markdown",
   "metadata": {},
   "source": [
    "!! Focus on Recall: In the context of developing an algorithm for an oncologist, prioritizing recall is crucial. This ensures that malignant tumors are not missed, even if it means accepting a higher rate of false positives.\n",
    "\n"
   ]
  },
  {
   "cell_type": "markdown",
   "metadata": {},
   "source": [
    "b) 📝 Are there questions that you might need to ask the oncologist in order to decide what metric to use? "
   ]
  },
  {
   "cell_type": "markdown",
   "metadata": {},
   "source": [
    " - 3 important question:\n",
    " 1) The consequences of false negatives versus false positives, \n",
    " 2) Their tolerance for each type of error\n",
    " 3) How they typically prioritize sensitivity and specificity in clinical practice."
   ]
  },
  {
   "cell_type": "markdown",
   "metadata": {},
   "source": [
    "c) 📝 Now that you have fitted your model to the dataset, you can still make an adjustment on your model to maximize the metric that you have chosen and reduce the type of error that the oncologist is most afraid of.\n",
    "What adjustment can you make on your model's predictions?"
   ]
  },
  {
   "cell_type": "markdown",
   "metadata": {},
   "source": [
    "Adjustments for Maximizing Recall is the most important step, therefore to maximize recall and reduce the risk of missing malignant tumors, we might lower the classification threshold. This ensures that the model is more sensitive in identifying malignant tumors, even it actually increasing false positives. We might deal with the unnecessary stress but not actual cancer :)"
   ]
  },
  {
   "cell_type": "markdown",
   "metadata": {},
   "source": [
    "### <font color=red>9. Tweak your model's prediction the way you proposed in your answer of question 8. </font>\n",
    "    Show results demonstrating if its predictions have become more appropriate for cancer diagnosis. "
   ]
  },
  {
   "cell_type": "code",
   "execution_count": 22,
   "metadata": {},
   "outputs": [
    {
     "name": "stdout",
     "output_type": "stream",
     "text": [
      "Accuracy with Lowered Threshold: 0.8531468531468531\n",
      "Precision with Lowered Threshold: 0.7538461538461538\n",
      "Recall with Lowered Threshold: 0.9074074074074074\n",
      "F1-score with Lowered Threshold: 0.8235294117647058\n"
     ]
    },
    {
     "data": {
      "image/png": "[encoded data removed]",
      "text/plain": [
       "<Figure size 640x480 with 2 Axes>"
      ]
     },
     "metadata": {},
     "output_type": "display_data"
    }
   ],
   "source": [
    "y_pred_prob_lower_threshold = (log_reg_model_mean_radius.predict_proba(X_test_mean_radius)[:, 1] >= 0.3).astype(int)\n",
    "conf_matrix_lower_threshold = confusion_matrix(y_test_encoded, y_pred_prob_lower_threshold)\n",
    "disp = ConfusionMatrixDisplay(confusion_matrix=conf_matrix_lower_threshold, display_labels=[\"benign\", \"malignant\"])\n",
    "ax = disp.plot()\n",
    "\n",
    "# Compute accuracy, precision, recall, and F1-score\n",
    "accuracy_lower_threshold = (conf_matrix_lower_threshold[0, 0] + conf_matrix_lower_threshold[1, 1]) / np.sum(conf_matrix_lower_threshold)\n",
    "precision_lower_threshold = conf_matrix_lower_threshold[1, 1] / (conf_matrix_lower_threshold[1, 1] + conf_matrix_lower_threshold[0, 1])\n",
    "recall_lower_threshold = conf_matrix_lower_threshold[1, 1] / (conf_matrix_lower_threshold[1, 1] + conf_matrix_lower_threshold[1, 0])\n",
    "f1_score_lower_threshold = 2 * (precision_lower_threshold * recall_lower_threshold) / (precision_lower_threshold + recall_lower_threshold)\n",
    "\n",
    "# Display performance metrics\n",
    "print(\"Accuracy with Lowered Threshold:\", accuracy_lower_threshold)\n",
    "print(\"Precision with Lowered Threshold:\", precision_lower_threshold)\n",
    "print(\"Recall with Lowered Threshold:\", recall_lower_threshold)\n",
    "print(\"F1-score with Lowered Threshold:\", f1_score_lower_threshold)\n"
   ]
  },
  {
   "cell_type": "markdown",
   "metadata": {},
   "source": [
    "📝 Comment your results."
   ]
  },
  {
   "cell_type": "markdown",
   "metadata": {},
   "source": [
    "Confusion Matrix:\n",
    "1) True Positives (TP) increased from 45 to 49, indicating more correct identification of malignant tumors.\n",
    "2) False Positives (FP) increased from 4 to 16, indicating more benign tumors were incorrectly classified as malignant.\n",
    "3) True Negatives (TN) decreased from 85 to 73, indicating fewer correct classifications of benign tumors.\n",
    "4) False Negatives (FN) decreased from 9 to 5, indicating fewer missed malignant tumors.\n",
    "\n",
    "Measures:\n",
    "- Accuracy decreased slightly from 0.9091 to 0.8531 due to more false positives.\n",
    "- Precision decreased from 0.9184 to 0.7538, showing more incorrect positive predictions.\n",
    "- Recall increased from 0.8333 to 0.9074, indicating better capture of malignant cases.\n",
    "- F1-score decreased slightly from 0.8738 to 0.8235, reflecting the trade-off between precision and recall.\n",
    "\n",
    "\n",
    "Overall, lowering the threshold increased the model's sensitivity (recall) at the expense of its specificity (precision), resulting in a higher number of true positives but also more false positives"
   ]
  },
  {
   "cell_type": "markdown",
   "metadata": {},
   "source": [
    "## We decide to add an extra feature to our model.\n",
    "### 10. Inspect the data in order to tell —  between mean texture, mean perimeter, and mean area — which is the most relevant feature to choose (in addition to mean radius)."
   ]
  },
  {
   "cell_type": "markdown",
   "metadata": {},
   "source": [
    "📝 Which predictor do you choose? Explain why."
   ]
  },
  {
   "cell_type": "code",
   "execution_count": 23,
   "metadata": {},
   "outputs": [
    {
     "data": {
      "text/html": [
       "<style type=\"text/css\">\n",
       "#T_f8935_row0_col0, #T_f8935_row1_col1, #T_f8935_row2_col2, #T_f8935_row3_col3 {\n",
       "  background-color: #b40426;\n",
       "  color: #f1f1f1;\n",
       "}\n",
       "#T_f8935_row0_col1, #T_f8935_row0_col2, #T_f8935_row0_col3, #T_f8935_row2_col0 {\n",
       "  background-color: #3b4cc0;\n",
       "  color: #f1f1f1;\n",
       "}\n",
       "#T_f8935_row1_col0 {\n",
       "  background-color: #3f53c6;\n",
       "  color: #f1f1f1;\n",
       "}\n",
       "#T_f8935_row1_col2, #T_f8935_row2_col1 {\n",
       "  background-color: #bb1b2c;\n",
       "  color: #f1f1f1;\n",
       "}\n",
       "#T_f8935_row1_col3 {\n",
       "  background-color: #e4d9d2;\n",
       "  color: #000000;\n",
       "}\n",
       "#T_f8935_row2_col3 {\n",
       "  background-color: #d4dbe6;\n",
       "  color: #000000;\n",
       "}\n",
       "#T_f8935_row3_col0 {\n",
       "  background-color: #7093f3;\n",
       "  color: #f1f1f1;\n",
       "}\n",
       "#T_f8935_row3_col1 {\n",
       "  background-color: #f2cab5;\n",
       "  color: #000000;\n",
       "}\n",
       "#T_f8935_row3_col2 {\n",
       "  background-color: #ead4c8;\n",
       "  color: #000000;\n",
       "}\n",
       "</style>\n",
       "<table id=\"T_f8935\">\n",
       "  <thead>\n",
       "    <tr>\n",
       "      <th class=\"blank level0\" >&nbsp;</th>\n",
       "      <th id=\"T_f8935_level0_col0\" class=\"col_heading level0 col0\" >mean texture</th>\n",
       "      <th id=\"T_f8935_level0_col1\" class=\"col_heading level0 col1\" >mean perimeter</th>\n",
       "      <th id=\"T_f8935_level0_col2\" class=\"col_heading level0 col2\" >mean area</th>\n",
       "      <th id=\"T_f8935_level0_col3\" class=\"col_heading level0 col3\" >tumor type</th>\n",
       "    </tr>\n",
       "  </thead>\n",
       "  <tbody>\n",
       "    <tr>\n",
       "      <th id=\"T_f8935_level0_row0\" class=\"row_heading level0 row0\" >mean texture</th>\n",
       "      <td id=\"T_f8935_row0_col0\" class=\"data row0 col0\" >1.000000</td>\n",
       "      <td id=\"T_f8935_row0_col1\" class=\"data row0 col1\" >0.311127</td>\n",
       "      <td id=\"T_f8935_row0_col2\" class=\"data row0 col2\" >0.298170</td>\n",
       "      <td id=\"T_f8935_row0_col3\" class=\"data row0 col3\" >0.417589</td>\n",
       "    </tr>\n",
       "    <tr>\n",
       "      <th id=\"T_f8935_level0_row1\" class=\"row_heading level0 row1\" >mean perimeter</th>\n",
       "      <td id=\"T_f8935_row1_col0\" class=\"data row1 col0\" >0.311127</td>\n",
       "      <td id=\"T_f8935_row1_col1\" class=\"data row1 col1\" >1.000000</td>\n",
       "      <td id=\"T_f8935_row1_col2\" class=\"data row1 col2\" >0.986012</td>\n",
       "      <td id=\"T_f8935_row1_col3\" class=\"data row1 col3\" >0.726986</td>\n",
       "    </tr>\n",
       "    <tr>\n",
       "      <th id=\"T_f8935_level0_row2\" class=\"row_heading level0 row2\" >mean area</th>\n",
       "      <td id=\"T_f8935_row2_col0\" class=\"data row2 col0\" >0.298170</td>\n",
       "      <td id=\"T_f8935_row2_col1\" class=\"data row2 col1\" >0.986012</td>\n",
       "      <td id=\"T_f8935_row2_col2\" class=\"data row2 col2\" >1.000000</td>\n",
       "      <td id=\"T_f8935_row2_col3\" class=\"data row2 col3\" >0.690171</td>\n",
       "    </tr>\n",
       "    <tr>\n",
       "      <th id=\"T_f8935_level0_row3\" class=\"row_heading level0 row3\" >tumor type</th>\n",
       "      <td id=\"T_f8935_row3_col0\" class=\"data row3 col0\" >0.417589</td>\n",
       "      <td id=\"T_f8935_row3_col1\" class=\"data row3 col1\" >0.726986</td>\n",
       "      <td id=\"T_f8935_row3_col2\" class=\"data row3 col2\" >0.690171</td>\n",
       "      <td id=\"T_f8935_row3_col3\" class=\"data row3 col3\" >1.000000</td>\n",
       "    </tr>\n",
       "  </tbody>\n",
       "</table>\n"
      ],
      "text/plain": [
       "<pandas.io.formats.style.Styler at 0x165a72290>"
      ]
     },
     "execution_count": 23,
     "metadata": {},
     "output_type": "execute_result"
    }
   ],
   "source": [
    "\n",
    "correlation_matrix = df_combined_training[['mean texture', 'mean perimeter', 'mean area', 'tumor type']].corr()\n",
    "correlation_matrix.style.background_gradient(cmap='coolwarm')\n",
    "\n"
   ]
  },
  {
   "cell_type": "code",
   "execution_count": 24,
   "metadata": {},
   "outputs": [
    {
     "name": "stdout",
     "output_type": "stream",
     "text": [
      "Variable with the highest correlation: mean perimeter\n"
     ]
    }
   ],
   "source": [
    "highest_correlation = correlation_matrix['tumor type'].abs().nlargest(2).index[1]\n",
    "print(\"Variable with the highest correlation:\", highest_correlation)"
   ]
  },
  {
   "cell_type": "markdown",
   "metadata": {},
   "source": [
    "### 11. Re-train your logistic regression with your two features (mean radius and the one you have picked)."
   ]
  },
  {
   "cell_type": "code",
   "execution_count": 25,
   "metadata": {},
   "outputs": [
    {
     "name": "stdout",
     "output_type": "stream",
     "text": [
      "Accuracy of the logistic regression model using only mean radius as a feature: 0.9300699300699301\n"
     ]
    }
   ],
   "source": [
    "X_train_mean_radius_perimeter= pd.DataFrame(data=X_train[['mean radius', 'mean perimeter']], columns=['mean radius', 'mean perimeter'])\n",
    "X_test_mean_radius_perimeter = pd.DataFrame(data=X_test[['mean radius', 'mean perimeter']], columns=['mean radius', 'mean perimeter'])\n",
    "\n",
    "log_reg_model_mean_radius_perimeter = LogisticRegression()\n",
    "log_reg_model_mean_radius_perimeter.fit(X_train_mean_radius_perimeter, y_train_encoded)\n",
    "\n",
    "y_pred_mean_radius_perimeter = log_reg_model_mean_radius_perimeter.predict(X_test_mean_radius_perimeter)\n",
    "\n",
    "accuracy_radius = accuracy_score(y_test_encoded, y_pred_mean_radius_perimeter)\n",
    "print(\"Accuracy of the logistic regression model using only mean radius as a feature:\", accuracy_radius)\n",
    "\n",
    "\n"
   ]
  },
  {
   "cell_type": "markdown",
   "metadata": {},
   "source": [
    "### <font color=red>12. Calculate the performance of your model with two features.</font>\n"
   ]
  },
  {
   "cell_type": "code",
   "execution_count": 26,
   "metadata": {},
   "outputs": [
    {
     "name": "stdout",
     "output_type": "stream",
     "text": [
      "Accuracy: 0.9090909090909091\n",
      "Precision: 0.9183673469387755\n",
      "Recall: 0.8333333333333334\n",
      "F1-score: 0.8737864077669903\n"
     ]
    },
    {
     "data": {
      "image/png": "[encoded data removed]",
      "text/plain": [
       "<Figure size 640x480 with 2 Axes>"
      ]
     },
     "metadata": {},
     "output_type": "display_data"
    }
   ],
   "source": [
    "\n",
    "y_pred_prob_two_features = log_reg_model_mean_radius.predict_proba(X_test_mean_radius)[:, 1]\n",
    "threshold_two_features  = 0.5\n",
    "y_pred_adjusted_two_features= (y_pred_prob_two_features >= threshold_two_features).astype(int)\n",
    "\n",
    "\n",
    "conf_matrix = confusion_matrix(y_test_encoded, y_pred_adjusted_two_features)\n",
    "disp = ConfusionMatrixDisplay(confusion_matrix=conf_matrix, display_labels=[\"benign\", \"malignant\"])\n",
    "ax = disp.plot()\n",
    "\n",
    "# Compute performance metrics\n",
    "accuracy_two_features = (conf_matrix[0, 0] + conf_matrix[1, 1]) / np.sum(conf_matrix)\n",
    "precision_two_features = conf_matrix[1, 1] / (conf_matrix[1, 1] + conf_matrix[0, 1])\n",
    "recall_two_features = conf_matrix[1, 1] / (conf_matrix[1, 1] + conf_matrix[1, 0])\n",
    "f1_score_two_features= 2 * (precision_two_features * recall_two_features) / (precision_two_features + recall_two_features)\n",
    "\n",
    "# Display performance metrics\n",
    "print(\"Accuracy:\", accuracy_two_features)\n",
    "print(\"Precision:\", precision_two_features)\n",
    "print(\"Recall:\", recall_two_features)\n",
    "print(\"F1-score:\", f1_score_two_features)\n"
   ]
  },
  {
   "cell_type": "markdown",
   "metadata": {},
   "source": [
    "## Comparison of the two models\n",
    "### <font color=red>13. Plot and compare the ROC curves of the two previous models.</font> \n",
    "Note: the curves should appear on the same graph with different colors in order to facilitate comparison."
   ]
  },
  {
   "cell_type": "code",
   "execution_count": 27,
   "metadata": {},
   "outputs": [
    {
     "data": {
      "image/png": "[encoded data removed]",
      "text/plain": [
       "<Figure size 800x600 with 1 Axes>"
      ]
     },
     "metadata": {},
     "output_type": "display_data"
    }
   ],
   "source": [
    "\n",
    "y_pred_prob_model1 = log_reg_model_mean_radius.predict_proba(X_test_mean_radius)[:, 1]\n",
    "y_pred_prob_lower_threshold = (log_reg_model_mean_radius.predict_proba(X_test_mean_radius)[:, 1] >= 0.3).astype(int)\n",
    "y_pred_adjusted_two_features= (y_pred_prob_two_features >= threshold_two_features).astype(int)\n",
    "\n",
    "\n",
    "fpr_model1, tpr_model1, _ = roc_curve(y_test_encoded, y_pred_prob_model1)\n",
    "roc_auc_model1 = roc_auc_score(y_test_encoded, y_pred_prob_model1)\n",
    "fpr_model2, tpr_model2, _ = roc_curve(y_test_encoded, y_pred_prob_lower_threshold)\n",
    "roc_auc_model2 = roc_auc_score(y_test_encoded, y_pred_prob_lower_threshold)\n",
    "fpr_model3, tpr_model3, _ = roc_curve(y_test_encoded, y_pred_adjusted_two_features)\n",
    "roc_auc_model3 = roc_auc_score(y_test_encoded, y_pred_adjusted_two_features)\n",
    "\n",
    "plt.figure(figsize=(8, 6))\n",
    "plt.plot(fpr_model1, tpr_model1, color='blue', lw=2, label='Model 1 with baseline (AUC = %0.2f)' % roc_auc_model1)\n",
    "plt.plot(fpr_model2, tpr_model2, color='red', lw=2, label='Model 2 with better recall(AUC = %0.2f)' % roc_auc_model2)\n",
    "plt.plot(fpr_model3, tpr_model3, color='green', lw=2, label='Model 3 with 2 features (AUC = %0.2f)' % roc_auc_model2)\n",
    "\n",
    "plt.plot([0, 1], [0, 1], color='gray', lw=1, linestyle='--')\n",
    "\n",
    "plt.xlabel('False Positive Rate')\n",
    "plt.ylabel('True Positive Rate')\n",
    "plt.title('ROC Curve Comparison')\n",
    "plt.legend(loc='lower right')\n",
    "plt.grid(True)\n",
    "\n",
    "# Show the plot\n",
    "plt.show()"
   ]
  },
  {
   "cell_type": "markdown",
   "metadata": {},
   "source": [
    "📝 Comment"
   ]
  },
  {
   "cell_type": "markdown",
   "metadata": {},
   "source": [
    "\n",
    "Three logistic regression models were evaluated for predicting breast cancer malignancy. The first, using only \"mean radius,\" achieved an AUC of 0.97, indicating strong performance. The second model, adjusted for better recall, scored slightly lower at 0.86. The third, incorporating two features, also achieved an AUC of 0.86. This suggests that while adding features may not enhance performance significantly, adjusting thresholds can impact specific goals like recall. Model selection should align with specific application needs."
   ]
  },
  {
   "cell_type": "markdown",
   "metadata": {},
   "source": [
    "### <font color=red>14. Compute and compare the logistic loss for the two previous models.</font> "
   ]
  },
  {
   "cell_type": "code",
   "execution_count": 28,
   "metadata": {},
   "outputs": [
    {
     "name": "stdout",
     "output_type": "stream",
     "text": [
      "Logistic Loss for Model 1: 0.2281220744183213\n",
      "Logistic Loss for Model 2: 5.293123924275946\n",
      "Logistic Loss for Model 3: 3.2766957626470137\n"
     ]
    }
   ],
   "source": [
    "\n",
    "\n",
    "# Compute logistic loss for the first model\n",
    "log_loss_model1 = log_loss(y_test_encoded, y_pred_prob_model1)\n",
    "\n",
    "# Compute logistic loss for the second model\n",
    "log_loss_model2 = log_loss(y_test_encoded, y_pred_prob_lower_threshold)\n",
    "\n",
    "# Compute logistic loss for the third model\n",
    "log_loss_model3 = log_loss(y_test_encoded, y_pred_adjusted_two_features)\n",
    "\n",
    "# Print the logistic loss for each model\n",
    "print(\"Logistic Loss for Model 1:\", log_loss_model1)\n",
    "print(\"Logistic Loss for Model 2:\", log_loss_model2)\n",
    "print(\"Logistic Loss for Model 3:\", log_loss_model3)\n"
   ]
  },
  {
   "cell_type": "markdown",
   "metadata": {},
   "source": [
    "📝 Comment"
   ]
  },
  {
   "cell_type": "markdown",
   "metadata": {},
   "source": [
    "Lower values indicate better performance, as they reflect a closer match between the predicted probabilities and the actual outcomes. In this case, Model 1 has the lowest logistic loss, indicating the best performance, while Model 2 and Model 3 have higher losses, suggesting lower performance."
   ]
  }
 ],
 "metadata": {
  "kernelspec": {
   "display_name": "Python 3 (ipykernel)",
   "language": "python",
   "name": "python3"
  },
  "language_info": {
   "codemirror_mode": {
    "name": "ipython",
    "version": 3
   },
   "file_extension": ".py",
   "mimetype": "text/x-python",
   "name": "python",
   "nbconvert_exporter": "python",
   "pygments_lexer": "ipython3",
   "version": "3.9.18"
  }
 },
 "nbformat": 4,
 "nbformat_minor": 4
}
